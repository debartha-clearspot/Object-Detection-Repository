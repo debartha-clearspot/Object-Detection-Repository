{
 "cells": [
  {
   "cell_type": "code",
   "execution_count": 5,
   "id": "0645fa72",
   "metadata": {},
   "outputs": [],
   "source": [
    "import tensorflow as tf\n",
    "import cv2\n",
    "import numpy as np\n",
    "import tensorflow_hub as hub"
   ]
  },
  {
   "cell_type": "code",
   "execution_count": 20,
   "id": "7b570f5f",
   "metadata": {},
   "outputs": [
    {
     "name": "stdout",
     "output_type": "stream",
     "text": [
      "INFO:tensorflow:Saver not created because there are no variables in the graph to restore\n"
     ]
    },
    {
     "name": "stderr",
     "output_type": "stream",
     "text": [
      "INFO:tensorflow:Saver not created because there are no variables in the graph to restore\n"
     ]
    }
   ],
   "source": [
    "#testing with mobilenet_v2\n",
    "model1 = hub.load(\"https://www.kaggle.com/models/google/mobilenet-v2/frameworks/TensorFlow1/variations/openimages-v4-ssd-mobilenet-v2/versions/1\").signatures[\"default\"]"
   ]
  },
  {
   "cell_type": "code",
   "execution_count": 13,
   "id": "6c26b963",
   "metadata": {},
   "outputs": [
    {
     "name": "stdout",
     "output_type": "stream",
     "text": [
      "INFO:tensorflow:Saver not created because there are no variables in the graph to restore\n"
     ]
    },
    {
     "name": "stderr",
     "output_type": "stream",
     "text": [
      "INFO:tensorflow:Saver not created because there are no variables in the graph to restore\n"
     ]
    }
   ],
   "source": [
    "#testing with faster_rcnn_v2\n",
    "model2 = hub.load(\"https://www.kaggle.com/models/google/faster-rcnn-inception-resnet-v2/frameworks/TensorFlow1/variations/faster-rcnn-openimages-v4-inception-resnet-v2/versions/1\").signatures[\"default\"]"
   ]
  },
  {
   "cell_type": "code",
   "execution_count": 37,
   "id": "569ca809",
   "metadata": {},
   "outputs": [],
   "source": [
    "image = cv2.imread(\"C:\\\\Users\\\\91867\\\\Downloads\\\\image.jpg\")\n",
    "image2 = cv2.cvtColor(image,cv2.COLOR_BGR2RGB)\n",
    "converted_img = tf.image.convert_image_dtype(image2,tf.float32)[tf.newaxis, ...]"
   ]
  },
  {
   "cell_type": "code",
   "execution_count": 38,
   "id": "d47a77fe",
   "metadata": {},
   "outputs": [],
   "source": [
    "detection = model1(converted_img)\n"
   ]
  },
  {
   "cell_type": "code",
   "execution_count": 39,
   "id": "a34afbed",
   "metadata": {},
   "outputs": [
    {
     "name": "stdout",
     "output_type": "stream",
     "text": [
      "tf.Tensor(\n",
      "[b'Footwear' b'Footwear' b'Woman' b'Footwear' b'Man' b'Footwear' b'Man'\n",
      " b'Footwear' b'Footwear' b'Footwear' b'Woman' b'Woman' b'Footwear'\n",
      " b'Footwear' b'Footwear' b'Footwear' b'Footwear' b'Footwear' b'Footwear'\n",
      " b'Footwear' b'Man' b'Footwear' b'Footwear' b'Woman' b'Footwear'\n",
      " b'Footwear' b'Footwear' b'Footwear' b'Girl' b'Footwear' b'Footwear'\n",
      " b'Footwear' b'Footwear' b'Footwear' b'Footwear' b'Footwear' b'Footwear'\n",
      " b'Footwear' b'Footwear' b'Footwear' b'Footwear' b'Clothing' b'Footwear'\n",
      " b'Footwear' b'Footwear' b'Footwear' b'Footwear' b'Footwear' b'Footwear'\n",
      " b'Footwear' b'Footwear' b'Footwear' b'Footwear' b'Footwear' b'Footwear'\n",
      " b'Footwear' b'Woman' b'Footwear' b'Woman' b'Footwear' b'Footwear'\n",
      " b'Woman' b'Footwear' b'Clothing' b'Footwear' b'Footwear' b'Footwear'\n",
      " b'Building' b'Footwear' b'Footwear' b'Footwear' b'Human leg' b'Footwear'\n",
      " b'Footwear' b'Clothing' b'Footwear' b'Footwear' b'Footwear' b'Man'\n",
      " b'Footwear' b'Footwear' b'Footwear' b'Footwear' b'Footwear' b'Footwear'\n",
      " b'Footwear' b'Woman' b'Footwear' b'Clothing' b'Footwear' b'Clothing'\n",
      " b'Footwear' b'Woman' b'Footwear' b'Clothing' b'Footwear' b'Man' b'Man'\n",
      " b'Footwear' b'Footwear'], shape=(100,), dtype=string)\n"
     ]
    }
   ],
   "source": [
    "print(detection[\"detection_class_entities\"])"
   ]
  },
  {
   "cell_type": "code",
   "execution_count": 40,
   "id": "994ba72f",
   "metadata": {},
   "outputs": [
    {
     "data": {
      "text/plain": [
       "-1"
      ]
     },
     "execution_count": 40,
     "metadata": {},
     "output_type": "execute_result"
    }
   ],
   "source": [
    "def drawbox(image, boxes, classnames, scores):\n",
    "    # Assuming you have a threshold score defined here\n",
    "    score_threshold = 0.25\n",
    "    boxsidx = tf.image.non_max_suppression(boxes, scores, max_output_size=20, score_threshold=score_threshold)\n",
    "    for i in boxsidx:\n",
    "        ymin, xmin, ymax, xmax = tuple(boxes[i])\n",
    "        classname = classnames[i].decode(\"ascii\")\n",
    "        namewithscore = \"{}:{}\".format(classname, int(100 * scores[i]))\n",
    "        \n",
    "        # Convert ymin, xmin, ymax, xmax to pixel values\n",
    "        im_height, im_width, _ = image.shape\n",
    "        left, top, right, bottom = int(xmin * im_width), int(ymin * im_height), int(xmax * im_width), int(ymax * im_height)\n",
    "\n",
    "        # Draw bounding box\n",
    "        cv2.rectangle(image, (left, top), (right, bottom), color=(255, 255, 0), thickness=1)\n",
    "\n",
    "        # Draw class name and score\n",
    "        cv2.putText(image, namewithscore, (left, top - 5), cv2.FONT_HERSHEY_SIMPLEX, 0.5, (255, 255, 0), 2)\n",
    "\n",
    "    return image\n",
    "\n",
    "# Assuming you have defined 'detection' and 'image' elsewhere in your code\n",
    "result = {key: value.numpy() for key, value in detection.items()}\n",
    "imagewithboxes = drawbox(image, result['detection_boxes'], result['detection_class_entities'], result[\"detection_scores\"])\n",
    "imagewithboxes = cv2.resize(imagewithboxes, (0, 0), fx=0.5, fy=0.5)\n",
    "cv2.imshow(\"image\", imagewithboxes)\n",
    "cv2.waitKey(0)"
   ]
  },
  {
   "cell_type": "code",
   "execution_count": null,
   "id": "2424406b",
   "metadata": {},
   "outputs": [],
   "source": []
  }
 ],
 "metadata": {
  "kernelspec": {
   "display_name": "Python 3",
   "language": "python",
   "name": "python3"
  },
  "language_info": {
   "codemirror_mode": {
    "name": "ipython",
    "version": 3
   },
   "file_extension": ".py",
   "mimetype": "text/x-python",
   "name": "python",
   "nbconvert_exporter": "python",
   "pygments_lexer": "ipython3",
   "version": "3.8.8"
  }
 },
 "nbformat": 4,
 "nbformat_minor": 5
}
