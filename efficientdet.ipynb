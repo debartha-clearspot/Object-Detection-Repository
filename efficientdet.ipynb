{
 "cells": [
  {
   "cell_type": "code",
   "execution_count": 10,
   "id": "5f345949",
   "metadata": {},
   "outputs": [
    {
     "name": "stderr",
     "output_type": "stream",
     "text": [
      "WARNING:absl:Importing a function (__inference___call___32344) with ops with unsaved custom gradients. Will likely fail if a gradient is requested.\n",
      "WARNING:absl:Importing a function (__inference_EfficientDet-D0_layer_call_and_return_conditional_losses_97451) with ops with unsaved custom gradients. Will likely fail if a gradient is requested.\n",
      "WARNING:absl:Importing a function (__inference_bifpn_layer_call_and_return_conditional_losses_77595) with ops with unsaved custom gradients. Will likely fail if a gradient is requested.\n",
      "WARNING:absl:Importing a function (__inference_EfficientDet-D0_layer_call_and_return_conditional_losses_103456) with ops with unsaved custom gradients. Will likely fail if a gradient is requested.\n",
      "WARNING:absl:Importing a function (__inference_EfficientDet-D0_layer_call_and_return_conditional_losses_93843) with ops with unsaved custom gradients. Will likely fail if a gradient is requested.\n",
      "WARNING:absl:Importing a function (__inference_EfficientDet-D0_layer_call_and_return_conditional_losses_107064) with ops with unsaved custom gradients. Will likely fail if a gradient is requested.\n",
      "WARNING:absl:Importing a function (__inference_bifpn_layer_call_and_return_conditional_losses_75975) with ops with unsaved custom gradients. Will likely fail if a gradient is requested.\n"
     ]
    }
   ],
   "source": [
    "import tensorflow as tf\n",
    "import cv2\n",
    "import numpy as np\n",
    "import tensorflow_hub as hub\n",
    "\n",
    "# Load the EfficientDet model\n",
    "model1 = hub.load(\"https://tfhub.dev/tensorflow/efficientdet/d0/1\")\n",
    "\n",
    "# Load and preprocess the image\n",
    "image = cv2.imread(\"C:\\\\Users\\\\91867\\\\Downloads\\\\image.jpg\")\n",
    "image_rgb = cv2.cvtColor(image, cv2.COLOR_BGR2RGB)\n",
    "image_resized = cv2.resize(image_rgb, (512, 512))\n",
    "input_image = tf.image.convert_image_dtype(image_resized, tf.uint8)[tf.newaxis, ...]\n",
    "\n",
    "# Perform object detection\n",
    "detection = model1(input_image)\n"
   ]
  },
  {
   "cell_type": "code",
   "execution_count": 11,
   "id": "9a039a67",
   "metadata": {},
   "outputs": [
    {
     "name": "stdout",
     "output_type": "stream",
     "text": [
      "dict_keys(['num_detections', 'detection_anchor_indices', 'detection_multiclass_scores', 'detection_boxes', 'detection_classes', 'raw_detection_scores', 'raw_detection_boxes', 'detection_scores'])\n",
      "tf.Tensor(\n",
      "[[ 1.  1.  1.  1.  1.  1.  1. 31. 31.  1.  1.  1.  1.  1.  1. 31.  1. 31.\n",
      "  31.  1.  1. 27. 31.  1. 27.  1. 31.  1.  1.  1.  1.  1. 27. 31. 31. 31.\n",
      "  27. 31.  1.  1. 31. 31. 31.  1. 31. 31.  1. 31. 27.  1. 31.  1.  1. 31.\n",
      "  31.  1. 31.  1. 31. 31.  1. 27. 27. 27. 31.  1. 27. 31. 31.  1. 32. 27.\n",
      "   1. 31.  1.  1. 31.  1.  1.  1. 31. 31. 31.  1. 31.  1. 31.  1. 31. 31.\n",
      "  27. 31. 32. 27. 31.  1.  1.  1. 31. 31.]], shape=(1, 100), dtype=float32)\n"
     ]
    }
   ],
   "source": [
    "# Print all keys in the detection dictionary\n",
    "print(detection.keys())\n",
    "# Access detection classes\n",
    "print(detection[\"detection_classes\"])\n",
    "\n"
   ]
  },
  {
   "cell_type": "code",
   "execution_count": 17,
   "id": "cff2991f",
   "metadata": {},
   "outputs": [],
   "source": [
    "# Assuming you have a mapping of class IDs to class names\n",
    "class_names = {1: 'class1', 2: 'class2'}\n",
    "\n",
    "# Define a function to draw bounding boxes on the image\n",
    "def draw_boxes(image, boxes, class_ids, scores):\n",
    "    for i in range(len(boxes)):\n",
    "        ymin, xmin, ymax, xmax = boxes[i]\n",
    "        class_id = int(class_ids[i])\n",
    "        classname = class_names.get(class_id, 'Unknown')  # Get class name from the mapping, default to 'Unknown' if not found\n",
    "        score = scores[i]\n",
    "        if score > 0.5:  # Adjust score threshold as needed\n",
    "            left, top, right, bottom = int(xmin * image.shape[1]), int(ymin * image.shape[0]), int(xmax * image.shape[1]), int(ymax * image.shape[0])\n",
    "            cv2.rectangle(image, (left, top), (right, bottom), color=(255, 255, 0), thickness=2)\n",
    "            cv2.putText(image, f\"{classname}: {score:.2f}\", (left, top - 5), cv2.FONT_HERSHEY_SIMPLEX, 0.5, (255, 255, 0), 2)\n",
    "\n",
    "    return image\n",
    "\n",
    "# Draw bounding boxes on the image\n",
    "image_with_boxes = draw_boxes(image2.copy(), detection_boxes, detection_class_entities, detection_scores)\n",
    "\n",
    "# Display the image with bounding boxes\n",
    "cv2.imshow(\"image\", image_with_boxes)\n",
    "cv2.waitKey(0)\n",
    "cv2.destroyAllWindows()\n",
    "\n"
   ]
  },
  {
   "cell_type": "code",
   "execution_count": null,
   "id": "a97f3aeb",
   "metadata": {},
   "outputs": [],
   "source": []
  }
 ],
 "metadata": {
  "kernelspec": {
   "display_name": "Python 3",
   "language": "python",
   "name": "python3"
  },
  "language_info": {
   "codemirror_mode": {
    "name": "ipython",
    "version": 3
   },
   "file_extension": ".py",
   "mimetype": "text/x-python",
   "name": "python",
   "nbconvert_exporter": "python",
   "pygments_lexer": "ipython3",
   "version": "3.8.8"
  }
 },
 "nbformat": 4,
 "nbformat_minor": 5
}
